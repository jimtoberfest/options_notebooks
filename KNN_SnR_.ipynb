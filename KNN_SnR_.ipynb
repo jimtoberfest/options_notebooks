{
  "nbformat": 4,
  "nbformat_minor": 0,
  "metadata": {
    "colab": {
      "name": "KNN_SnR_.ipynb",
      "provenance": [],
      "collapsed_sections": [],
      "authorship_tag": "ABX9TyN7P2BeHkh9f0v/E+dqAS0e",
      "include_colab_link": true
    },
    "kernelspec": {
      "name": "python3",
      "display_name": "Python 3"
    }
  },
  "cells": [
    {
      "cell_type": "markdown",
      "metadata": {
        "id": "view-in-github",
        "colab_type": "text"
      },
      "source": [
        "<a href=\"https://colab.research.google.com/github/jimtoberfest/options_notebooks/blob/main/KNN_SnR_.ipynb\" target=\"_parent\"><img src=\"https://colab.research.google.com/assets/colab-badge.svg\" alt=\"Open In Colab\"/></a>"
      ]
    },
    {
      "cell_type": "markdown",
      "source": [
        "#KNN, Autodetect support and resistance levels for stocks"
      ],
      "metadata": {
        "id": "UcHJIkP7mD9f"
      }
    },
    {
      "cell_type": "markdown",
      "metadata": {
        "id": "w0dnPCn4KMVV"
      },
      "source": [
        "# <red>**<font color='red'>Imports and Custom Functions</font>**</red>"
      ]
    },
    {
      "cell_type": "code",
      "metadata": {
        "colab": {
          "base_uri": "https://localhost:8080/"
        },
        "id": "oCSHdlfJstiX",
        "outputId": "ca86aa56-afd8-4368-eb55-0a5a478144e3"
      },
      "source": [
        "!pip install yfinance\n",
        "!pip install mpl_finance"
      ],
      "execution_count": null,
      "outputs": [
        {
          "output_type": "stream",
          "text": [
            "Collecting yfinance\n",
            "  Downloading https://files.pythonhosted.org/packages/7a/e8/b9d7104d3a4bf39924799067592d9e59119fcfc900a425a12e80a3123ec8/yfinance-0.1.55.tar.gz\n",
            "Requirement already satisfied: pandas>=0.24 in /usr/local/lib/python3.6/dist-packages (from yfinance) (1.1.5)\n",
            "Requirement already satisfied: numpy>=1.15 in /usr/local/lib/python3.6/dist-packages (from yfinance) (1.19.4)\n",
            "Requirement already satisfied: requests>=2.20 in /usr/local/lib/python3.6/dist-packages (from yfinance) (2.23.0)\n",
            "Requirement already satisfied: multitasking>=0.0.7 in /usr/local/lib/python3.6/dist-packages (from yfinance) (0.0.9)\n",
            "Collecting lxml>=4.5.1\n",
            "\u001b[?25l  Downloading https://files.pythonhosted.org/packages/bd/78/56a7c88a57d0d14945472535d0df9fb4bbad7d34ede658ec7961635c790e/lxml-4.6.2-cp36-cp36m-manylinux1_x86_64.whl (5.5MB)\n",
            "\u001b[K     |████████████████████████████████| 5.5MB 6.3MB/s \n",
            "\u001b[?25hRequirement already satisfied: python-dateutil>=2.7.3 in /usr/local/lib/python3.6/dist-packages (from pandas>=0.24->yfinance) (2.8.1)\n",
            "Requirement already satisfied: pytz>=2017.2 in /usr/local/lib/python3.6/dist-packages (from pandas>=0.24->yfinance) (2018.9)\n",
            "Requirement already satisfied: idna<3,>=2.5 in /usr/local/lib/python3.6/dist-packages (from requests>=2.20->yfinance) (2.10)\n",
            "Requirement already satisfied: urllib3!=1.25.0,!=1.25.1,<1.26,>=1.21.1 in /usr/local/lib/python3.6/dist-packages (from requests>=2.20->yfinance) (1.24.3)\n",
            "Requirement already satisfied: certifi>=2017.4.17 in /usr/local/lib/python3.6/dist-packages (from requests>=2.20->yfinance) (2020.12.5)\n",
            "Requirement already satisfied: chardet<4,>=3.0.2 in /usr/local/lib/python3.6/dist-packages (from requests>=2.20->yfinance) (3.0.4)\n",
            "Requirement already satisfied: six>=1.5 in /usr/local/lib/python3.6/dist-packages (from python-dateutil>=2.7.3->pandas>=0.24->yfinance) (1.15.0)\n",
            "Building wheels for collected packages: yfinance\n",
            "  Building wheel for yfinance (setup.py) ... \u001b[?25l\u001b[?25hdone\n",
            "  Created wheel for yfinance: filename=yfinance-0.1.55-py2.py3-none-any.whl size=22616 sha256=228d243842a3ac2c10a4c26511f12331070be36160a451087df45cae1ef32b01\n",
            "  Stored in directory: /root/.cache/pip/wheels/04/98/cc/2702a4242d60bdc14f48b4557c427ded1fe92aedf257d4565c\n",
            "Successfully built yfinance\n",
            "Installing collected packages: lxml, yfinance\n",
            "  Found existing installation: lxml 4.2.6\n",
            "    Uninstalling lxml-4.2.6:\n",
            "      Successfully uninstalled lxml-4.2.6\n",
            "Successfully installed lxml-4.6.2 yfinance-0.1.55\n",
            "Collecting mpl_finance\n",
            "  Downloading https://files.pythonhosted.org/packages/9d/de/8169ea4403d6cb8322e74cc48b6834d1dfbed81931d17f1f26b2140160d8/mpl_finance-0.10.1-py3-none-any.whl\n",
            "Requirement already satisfied: matplotlib in /usr/local/lib/python3.6/dist-packages (from mpl_finance) (3.2.2)\n",
            "Requirement already satisfied: cycler>=0.10 in /usr/local/lib/python3.6/dist-packages (from matplotlib->mpl_finance) (0.10.0)\n",
            "Requirement already satisfied: pyparsing!=2.0.4,!=2.1.2,!=2.1.6,>=2.0.1 in /usr/local/lib/python3.6/dist-packages (from matplotlib->mpl_finance) (2.4.7)\n",
            "Requirement already satisfied: kiwisolver>=1.0.1 in /usr/local/lib/python3.6/dist-packages (from matplotlib->mpl_finance) (1.3.1)\n",
            "Requirement already satisfied: python-dateutil>=2.1 in /usr/local/lib/python3.6/dist-packages (from matplotlib->mpl_finance) (2.8.1)\n",
            "Requirement already satisfied: numpy>=1.11 in /usr/local/lib/python3.6/dist-packages (from matplotlib->mpl_finance) (1.19.4)\n",
            "Requirement already satisfied: six in /usr/local/lib/python3.6/dist-packages (from cycler>=0.10->matplotlib->mpl_finance) (1.15.0)\n",
            "Installing collected packages: mpl-finance\n",
            "Successfully installed mpl-finance-0.10.1\n"
          ],
          "name": "stdout"
        }
      ]
    },
    {
      "cell_type": "code",
      "metadata": {
        "id": "WDvtdAeqsmam"
      },
      "source": [
        "import numpy as np\n",
        "import yfinance as yf\n",
        "from datetime import datetime, date\n",
        "import pandas as pd\n",
        "import scipy.stats as si\n",
        "import matplotlib.pyplot as plt\n",
        "from datetime import datetime, date\n",
        "from sklearn.cluster import KMeans\n",
        "from matplotlib import pyplot as plt\n",
        "import matplotlib.ticker as mpticker\n",
        "from mpl_finance import candlestick_ohlc\n",
        "import matplotlib.dates as mpl_dates\n",
        "import time"
      ],
      "execution_count": null,
      "outputs": []
    },
    {
      "cell_type": "code",
      "metadata": {
        "id": "Zq1kGbsOo5AQ"
      },
      "source": [
        "def load_prices(ticker, period=\"6mo\"):\n",
        "    stock = yf.Ticker(ticker)\n",
        "    data = stock.history(period=period, interval=\"1d\")\n",
        "    first = data['Open'].iloc[0]\n",
        "    last = data['Close'].iloc[-1]\n",
        "    chg = ((last - first)/first)*100\n",
        "    chg = \"{:.2f}\".format(chg)\n",
        "    df1 = pd.DataFrame()\n",
        "    df1['ticker'] = [ticker]\n",
        "    df1['last_price'] = [last]\n",
        "    df1['daily_chg'] = [chg]\n",
        "    return data\n",
        "\n",
        "def get_info(ticker):\n",
        "  stock = yf.Ticker(ticker)\n",
        "  return stock.info\n",
        "\n",
        "def closing_price(df, colname='Close', place=-1):\n",
        "  x = df[colname].iloc[place]\n",
        "  return x\n",
        "\n",
        "\n"
      ],
      "execution_count": null,
      "outputs": []
    },
    {
      "cell_type": "code",
      "metadata": {
        "id": "pmqj-8xzxBzb"
      },
      "source": [
        "def get_optimum_clusters(df, saturation_point=0.05):\n",
        "    '''\n",
        "    :param df: dataframe\n",
        "    :param saturation_point: The amount of difference we are willing to detect\n",
        "    :return: clusters with optimum K centers\n",
        "    This method uses elbow method to find the optimum number of K clusters\n",
        "    We initialize different K-means with 1..10 centers and compare the inertias\n",
        "    If the difference is no more than saturation_point, we choose that as K and move on\n",
        "    '''\n",
        "\n",
        "    wcss = []\n",
        "    k_models = []\n",
        "    k_save = []\n",
        "    diffs = []\n",
        "\n",
        "    size = min(15, len(df.index))\n",
        "    for i in range(1, size):\n",
        "        kmeans = KMeans(n_clusters=i, init='k-means++', max_iter=300, n_init=10, random_state=0)\n",
        "        kmeans.fit(df)\n",
        "        wcss.append(kmeans.inertia_)\n",
        "        k_models.append(kmeans)\n",
        "        \n",
        "\n",
        "    # Compare differences in inertias until it's no more than saturation_point\n",
        "    optimum_k = len(wcss)-1\n",
        "    for i in range(0, len(wcss)-1):\n",
        "        diff = abs(wcss[i+1] - wcss[i])\n",
        "        k_s = optimum_k\n",
        "        k_save.append(k_s)\n",
        "        diffs.append(diff)\n",
        "        if diff < saturation_point:\n",
        "            optimum_k = i\n",
        "            break\n",
        "\n",
        "    print(\"Optimum K is \" + str(optimum_k + 1))\n",
        "    optimum_clusters = k_models[optimum_k]\n",
        "\n",
        "    return optimum_clusters"
      ],
      "execution_count": null,
      "outputs": []
    },
    {
      "cell_type": "markdown",
      "metadata": {
        "id": "a0AFshrhJ-71"
      },
      "source": [
        "# <blue>**<font color='blue'>TICKER SELECTION</font>**</blue>"
      ]
    },
    {
      "cell_type": "code",
      "metadata": {
        "id": "MNdEZynStHqB"
      },
      "source": [
        "symbol = 'DOCU'"
      ],
      "execution_count": null,
      "outputs": []
    },
    {
      "cell_type": "code",
      "metadata": {
        "colab": {
          "base_uri": "https://localhost:8080/",
          "height": 137
        },
        "id": "OqKouFtZtH4c",
        "outputId": "7b6cc94f-8e57-4a40-e667-bf96a4ce1c34"
      },
      "source": [
        "df_s = load_prices(symbol, \"6mo\")\n",
        "\n",
        "# df_s = load_prices(symbol, \"1mo\")\n",
        "# df_s = load_prices(symbol, \"3mo\")\n",
        "# df_s = load_prices(symbol, \"6mo\")\n",
        "# df_s = load_prices(symbol, \"1y\")\n",
        "\n",
        "df_s = df_s.rename_axis('Date').reset_index()\n",
        "df_s.tail(3)"
      ],
      "execution_count": null,
      "outputs": [
        {
          "output_type": "execute_result",
          "data": {
            "text/html": [
              "<div>\n",
              "<style scoped>\n",
              "    .dataframe tbody tr th:only-of-type {\n",
              "        vertical-align: middle;\n",
              "    }\n",
              "\n",
              "    .dataframe tbody tr th {\n",
              "        vertical-align: top;\n",
              "    }\n",
              "\n",
              "    .dataframe thead th {\n",
              "        text-align: right;\n",
              "    }\n",
              "</style>\n",
              "<table border=\"1\" class=\"dataframe\">\n",
              "  <thead>\n",
              "    <tr style=\"text-align: right;\">\n",
              "      <th></th>\n",
              "      <th>Date</th>\n",
              "      <th>Open</th>\n",
              "      <th>High</th>\n",
              "      <th>Low</th>\n",
              "      <th>Close</th>\n",
              "      <th>Volume</th>\n",
              "      <th>Dividends</th>\n",
              "      <th>Stock Splits</th>\n",
              "    </tr>\n",
              "  </thead>\n",
              "  <tbody>\n",
              "    <tr>\n",
              "      <th>125</th>\n",
              "      <td>2020-12-31</td>\n",
              "      <td>225.300003</td>\n",
              "      <td>225.990005</td>\n",
              "      <td>220.600006</td>\n",
              "      <td>222.300003</td>\n",
              "      <td>2209100</td>\n",
              "      <td>0</td>\n",
              "      <td>0</td>\n",
              "    </tr>\n",
              "    <tr>\n",
              "      <th>126</th>\n",
              "      <td>2021-01-04</td>\n",
              "      <td>222.389999</td>\n",
              "      <td>224.625000</td>\n",
              "      <td>216.500000</td>\n",
              "      <td>222.410004</td>\n",
              "      <td>2749400</td>\n",
              "      <td>0</td>\n",
              "      <td>0</td>\n",
              "    </tr>\n",
              "    <tr>\n",
              "      <th>127</th>\n",
              "      <td>2021-01-05</td>\n",
              "      <td>226.940002</td>\n",
              "      <td>233.800003</td>\n",
              "      <td>224.029999</td>\n",
              "      <td>227.875000</td>\n",
              "      <td>3223836</td>\n",
              "      <td>0</td>\n",
              "      <td>0</td>\n",
              "    </tr>\n",
              "  </tbody>\n",
              "</table>\n",
              "</div>"
            ],
            "text/plain": [
              "          Date        Open        High  ...   Volume  Dividends  Stock Splits\n",
              "125 2020-12-31  225.300003  225.990005  ...  2209100          0             0\n",
              "126 2021-01-04  222.389999  224.625000  ...  2749400          0             0\n",
              "127 2021-01-05  226.940002  233.800003  ...  3223836          0             0\n",
              "\n",
              "[3 rows x 8 columns]"
            ]
          },
          "metadata": {
            "tags": []
          },
          "execution_count": 13
        }
      ]
    },
    {
      "cell_type": "code",
      "metadata": {
        "colab": {
          "base_uri": "https://localhost:8080/",
          "height": 137
        },
        "id": "QtiuMneBtY-v",
        "outputId": "66a6e72e-5f2f-4ac1-f933-3edbe9d74a23"
      },
      "source": [
        "df_s.head(3)"
      ],
      "execution_count": null,
      "outputs": [
        {
          "output_type": "execute_result",
          "data": {
            "text/html": [
              "<div>\n",
              "<style scoped>\n",
              "    .dataframe tbody tr th:only-of-type {\n",
              "        vertical-align: middle;\n",
              "    }\n",
              "\n",
              "    .dataframe tbody tr th {\n",
              "        vertical-align: top;\n",
              "    }\n",
              "\n",
              "    .dataframe thead th {\n",
              "        text-align: right;\n",
              "    }\n",
              "</style>\n",
              "<table border=\"1\" class=\"dataframe\">\n",
              "  <thead>\n",
              "    <tr style=\"text-align: right;\">\n",
              "      <th></th>\n",
              "      <th>Date</th>\n",
              "      <th>Open</th>\n",
              "      <th>High</th>\n",
              "      <th>Low</th>\n",
              "      <th>Close</th>\n",
              "      <th>Volume</th>\n",
              "      <th>Dividends</th>\n",
              "      <th>Stock Splits</th>\n",
              "    </tr>\n",
              "  </thead>\n",
              "  <tbody>\n",
              "    <tr>\n",
              "      <th>0</th>\n",
              "      <td>2020-07-06</td>\n",
              "      <td>196.449997</td>\n",
              "      <td>199.449997</td>\n",
              "      <td>190.000000</td>\n",
              "      <td>190.660004</td>\n",
              "      <td>6495700</td>\n",
              "      <td>0</td>\n",
              "      <td>0</td>\n",
              "    </tr>\n",
              "    <tr>\n",
              "      <th>1</th>\n",
              "      <td>2020-07-07</td>\n",
              "      <td>191.389999</td>\n",
              "      <td>202.649994</td>\n",
              "      <td>189.585007</td>\n",
              "      <td>197.750000</td>\n",
              "      <td>6189500</td>\n",
              "      <td>0</td>\n",
              "      <td>0</td>\n",
              "    </tr>\n",
              "    <tr>\n",
              "      <th>2</th>\n",
              "      <td>2020-07-08</td>\n",
              "      <td>200.970001</td>\n",
              "      <td>206.550003</td>\n",
              "      <td>200.279999</td>\n",
              "      <td>206.350006</td>\n",
              "      <td>6248700</td>\n",
              "      <td>0</td>\n",
              "      <td>0</td>\n",
              "    </tr>\n",
              "  </tbody>\n",
              "</table>\n",
              "</div>"
            ],
            "text/plain": [
              "        Date        Open        High  ...   Volume  Dividends  Stock Splits\n",
              "0 2020-07-06  196.449997  199.449997  ...  6495700          0             0\n",
              "1 2020-07-07  191.389999  202.649994  ...  6189500          0             0\n",
              "2 2020-07-08  200.970001  206.550003  ...  6248700          0             0\n",
              "\n",
              "[3 rows x 8 columns]"
            ]
          },
          "metadata": {
            "tags": []
          },
          "execution_count": 14
        }
      ]
    },
    {
      "cell_type": "code",
      "metadata": {
        "id": "Kdsp0Pz87tfz"
      },
      "source": [
        "# low_clusters = get_optimum_clusters(lows)\n",
        "# baba = list(low_clusters[2])\n",
        "# plt.plot(baba)"
      ],
      "execution_count": null,
      "outputs": []
    },
    {
      "cell_type": "code",
      "metadata": {
        "colab": {
          "base_uri": "https://localhost:8080/"
        },
        "id": "iwtjraa1taPf",
        "outputId": "2c2a4160-4707-4b82-a812-de76aa2f1ad9"
      },
      "source": [
        "data = df_s\n",
        "\n",
        "df_s1 = df_s.drop('Date', axis=1)\n",
        "\n",
        "lows = pd.DataFrame(data=df_s1, index=data.index, columns=[\"Low\"])\n",
        "highs = pd.DataFrame(data=df_s1, index=data.index, columns=[\"High\"])\n",
        "\n",
        "low_clusters = get_optimum_clusters(lows)\n",
        "low_centers = low_clusters.cluster_centers_\n",
        "low_centers = np.sort(low_centers, axis=0)\n",
        "\n",
        "high_clusters = get_optimum_clusters(highs)\n",
        "high_centers = high_clusters.cluster_centers_\n",
        "high_centers = np.sort(high_centers, axis=0)\n",
        "\n",
        "lowss = []\n",
        "highss = []\n",
        "finals = []\n",
        "\n",
        "rounding_factor = 0\n",
        "\n",
        "for i in low_centers:\n",
        "  i = round(float(i),rounding_factor)\n",
        "  lowss.append(i)\n",
        "\n",
        "for i in high_centers:\n",
        "  i = round(float(i),rounding_factor)\n",
        "  highss.append(i)\n",
        "\n",
        "print('lows/support: ', lowss)\n",
        "print('highs/resistence: ', highss)\n",
        "\n",
        "##\n",
        "if len(lowss) != len(highss):\n",
        "  finals = lowss + highss\n",
        "else:\n",
        "  for i in range(len(lowss)):\n",
        "      l1 = lowss[i]\n",
        "      h1 = highss[i]\n",
        "      if i != (len(lowss) - 1):\n",
        "        l2 = lowss[i+1]\n",
        "        if ((h1 - l1) < (l2 - l1)):\n",
        "          finals.append((h1+l1)/2)\n",
        "        else:\n",
        "          finals.append(l1)\n",
        "      else:\n",
        "        finals.append(highss[i])\n",
        "\n",
        "print('finals/blended:',finals)\n"
      ],
      "execution_count": null,
      "outputs": [
        {
          "output_type": "stream",
          "text": [
            "Optimum K is 14\n",
            "Optimum K is 14\n",
            "lows/support:  [185.0, 189.0, 196.0, 200.0, 205.0, 209.0, 214.0, 218.0, 222.0, 227.0, 233.0, 239.0, 243.0, 251.0]\n",
            "highs/resistence:  [195.0, 198.0, 204.0, 209.0, 214.0, 218.0, 223.0, 228.0, 234.0, 239.0, 247.0, 252.0, 271.0, 290.0]\n",
            "finals/blended: [185.0, 189.0, 196.0, 200.0, 205.0, 209.0, 214.0, 218.0, 222.0, 227.0, 233.0, 239.0, 243.0, 290.0]\n"
          ],
          "name": "stdout"
        }
      ]
    },
    {
      "cell_type": "markdown",
      "metadata": {
        "id": "Wn1Bd0d8KXqM"
      },
      "source": [
        ""
      ]
    },
    {
      "cell_type": "code",
      "metadata": {
        "colab": {
          "base_uri": "https://localhost:8080/",
          "height": 538
        },
        "id": "PvNefjCEu39g",
        "outputId": "e5ede070-44a0-4389-91fb-ec639cf41996"
      },
      "source": [
        "plt.style.use('fast')\n",
        "\n",
        "# Extracting Data for plotting\n",
        "data = df_s\n",
        "ohlc = data.loc[:, ['Date', 'Open', 'High', 'Low', 'Close']]\n",
        "ohlc['Date'] = pd.to_datetime(ohlc['Date'])\n",
        "ohlc['Date'] = ohlc['Date'].apply(mpl_dates.date2num)\n",
        "ohlc = ohlc.astype(float)\n",
        "\n",
        "# Creating Subplots\n",
        "fig, ax = plt.subplots(figsize=(13,8))\n",
        "\n",
        "candlestick_ohlc(ax, ohlc.values, width=0.6, colorup='green', colordown='red', alpha=0.99)\n",
        "\n",
        "# Setting labels & titles\n",
        "ax.set_xlabel('Date')\n",
        "ax.set_ylabel('Price')\n",
        "fig.suptitle('6mo Daily Candlestick Chart of ' + symbol)\n",
        "\n",
        "# Formatting Date\n",
        "date_format = mpl_dates.DateFormatter('%d-%m-%Y')\n",
        "ax.xaxis.set_major_formatter(date_format)\n",
        "fig.autofmt_xdate()\n",
        "\n",
        "# fig.tight_layout()\n",
        "\n",
        "# plt.show()\n",
        "\n",
        "\n",
        "for low in low_centers[:9]:\n",
        "    ax.axhline(low[0], color='blue', ls=':', alpha=.2)\n",
        "\n",
        "for high in high_centers[-9:]:\n",
        "    ax.axhline(high[0], color='red', ls='--', alpha=.2)\n",
        "\n",
        "for final in finals:\n",
        "    ax.axhline(final, color='purple', ls='-', lw=3, alpha=.35)\n",
        "\n"
      ],
      "execution_count": null,
      "outputs": [
        {
          "output_type": "display_data",
          "data": {
            "image/png": "[encoded data removed]",
            "text/plain": [
              "<Figure size 936x576 with 1 Axes>"
            ]
          },
          "metadata": {
            "tags": [],
            "needs_background": "light"
          }
        }
      ]
    },
    {
      "cell_type": "code",
      "metadata": {
        "colab": {
          "base_uri": "https://localhost:8080/"
        },
        "id": "H3jZhUkN6bLV",
        "outputId": "150cf9a0-f216-45ee-ead6-b82e09e5df16"
      },
      "source": [
        "print('  lows: ', lowss)\n",
        "print(' highs: ', highss)\n",
        "print(\"finals: \", finals)"
      ],
      "execution_count": null,
      "outputs": [
        {
          "output_type": "stream",
          "text": [
            "  lows:  [185.0, 189.0, 196.0, 200.0, 205.0, 209.0, 214.0, 218.0, 222.0, 227.0, 233.0, 239.0, 243.0, 251.0]\n",
            " highs:  [195.0, 198.0, 204.0, 209.0, 214.0, 218.0, 223.0, 228.0, 234.0, 239.0, 247.0, 252.0, 271.0, 290.0]\n",
            "finals:  [185.0, 189.0, 196.0, 200.0, 205.0, 209.0, 214.0, 218.0, 222.0, 227.0, 233.0, 239.0, 243.0, 290.0]\n"
          ],
          "name": "stdout"
        }
      ]
    },
    {
      "cell_type": "code",
      "metadata": {
        "colab": {
          "base_uri": "https://localhost:8080/",
          "height": 35
        },
        "id": "qWllmixaPJVR",
        "outputId": "a3dc6fad-5e30-4159-b848-d4a186f8da0e"
      },
      "source": [
        "'''\n",
        "Need to add smart rounding so that stocks under 5$ are sorted in .25 increments and expensive stocks, >$250 are sorted in 10 or 25 dollar \n",
        "increments.\n",
        "\n",
        "'''"
      ],
      "execution_count": null,
      "outputs": [
        {
          "output_type": "execute_result",
          "data": {
            "application/vnd.google.colaboratory.intrinsic+json": {
              "type": "string"
            },
            "text/plain": [
              "'\\nNeed to add smart rounding so that stocks under 5$ are sorted in .25 increments and expensive stocks, >$250 are sorted in 10 or 25 dollar \\nincrements.\\n\\n'"
            ]
          },
          "metadata": {
            "tags": []
          },
          "execution_count": 19
        }
      ]
    },
    {
      "cell_type": "code",
      "metadata": {
        "id": "Lk9pwD1lKtZM"
      },
      "source": [
        ""
      ],
      "execution_count": null,
      "outputs": []
    }
  ]
}
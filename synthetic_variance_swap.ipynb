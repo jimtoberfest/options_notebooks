{
  "nbformat": 4,
  "nbformat_minor": 0,
  "metadata": {
    "colab": {
      "name": "synthetic_variance_swap.ipynb",
      "provenance": [],
      "collapsed_sections": [
        "PZXU8r0QO9ft"
      ],
      "toc_visible": true,
      "authorship_tag": "ABX9TyNerAxu4y1YdUNicUoI3cEj",
      "include_colab_link": true
    },
    "kernelspec": {
      "name": "python3",
      "display_name": "Python 3"
    },
    "language_info": {
      "name": "python"
    }
  },
  "cells": [
    {
      "cell_type": "markdown",
      "metadata": {
        "id": "view-in-github",
        "colab_type": "text"
      },
      "source": [
        "<a href=\"https://colab.research.google.com/github/jimtoberfest/options_notebooks/blob/main/synthetic_variance_swap.ipynb\" target=\"_parent\"><img src=\"https://colab.research.google.com/assets/colab-badge.svg\" alt=\"Open In Colab\"/></a>"
      ]
    },
    {
      "cell_type": "markdown",
      "source": [
        "#installs and imports"
      ],
      "metadata": {
        "id": "k81IXwXEMu-8"
      }
    },
    {
      "cell_type": "code",
      "source": [
        "!pip install yfinance -q\n",
        "!pip install opstrat -q"
      ],
      "metadata": {
        "colab": {
          "base_uri": "https://localhost:8080/"
        },
        "id": "mlVRAXhXQCLd",
        "outputId": "f011ddde-cf39-4ba2-b052-4b621cd37b9d"
      },
      "execution_count": 1,
      "outputs": [
        {
          "output_type": "stream",
          "name": "stdout",
          "text": [
            "\u001b[K     |████████████████████████████████| 62 kB 325 kB/s \n",
            "\u001b[K     |████████████████████████████████| 6.4 MB 12.7 MB/s \n",
            "\u001b[31mERROR: pip's dependency resolver does not currently take into account all the packages that are installed. This behaviour is the source of the following dependency conflicts.\n",
            "google-colab 1.0.0 requires requests~=2.23.0, but you have requests 2.26.0 which is incompatible.\n",
            "datascience 0.10.6 requires folium==0.2.1, but you have folium 0.8.3 which is incompatible.\u001b[0m\n",
            "\u001b[?25h"
          ]
        }
      ]
    },
    {
      "cell_type": "code",
      "execution_count": 2,
      "metadata": {
        "id": "ZPgKWXmPPuE3"
      },
      "outputs": [],
      "source": [
        "import yfinance as yf\n",
        "import pandas as pd\n",
        "import numpy as np\n",
        "import opstrat as op\n"
      ]
    },
    {
      "cell_type": "markdown",
      "source": [
        "#Stock / Options Chain Download"
      ],
      "metadata": {
        "id": "WqlACTxrM2ey"
      }
    },
    {
      "cell_type": "code",
      "source": [
        "upst = yf.Ticker(\"UPST\")"
      ],
      "metadata": {
        "id": "lILevhEmP7b1"
      },
      "execution_count": 3,
      "outputs": []
    },
    {
      "cell_type": "code",
      "source": [
        "upst_hist = upst.history(period=\"1d\")\n",
        "upst_hist.head()"
      ],
      "metadata": {
        "colab": {
          "base_uri": "https://localhost:8080/",
          "height": 112
        },
        "id": "6bwVi8YMQtwX",
        "outputId": "5e9ea53f-92c9-40a9-996c-33b090b87871"
      },
      "execution_count": 6,
      "outputs": [
        {
          "output_type": "execute_result",
          "data": {
            "text/html": [
              "\n",
              "  <div id=\"df-b0b0c626-59b0-4850-a33d-222dc1bc2d29\">\n",
              "    <div class=\"colab-df-container\">\n",
              "      <div>\n",
              "<style scoped>\n",
              "    .dataframe tbody tr th:only-of-type {\n",
              "        vertical-align: middle;\n",
              "    }\n",
              "\n",
              "    .dataframe tbody tr th {\n",
              "        vertical-align: top;\n",
              "    }\n",
              "\n",
              "    .dataframe thead th {\n",
              "        text-align: right;\n",
              "    }\n",
              "</style>\n",
              "<table border=\"1\" class=\"dataframe\">\n",
              "  <thead>\n",
              "    <tr style=\"text-align: right;\">\n",
              "      <th></th>\n",
              "      <th>Open</th>\n",
              "      <th>High</th>\n",
              "      <th>Low</th>\n",
              "      <th>Close</th>\n",
              "      <th>Volume</th>\n",
              "      <th>Dividends</th>\n",
              "      <th>Stock Splits</th>\n",
              "    </tr>\n",
              "    <tr>\n",
              "      <th>Date</th>\n",
              "      <th></th>\n",
              "      <th></th>\n",
              "      <th></th>\n",
              "      <th></th>\n",
              "      <th></th>\n",
              "      <th></th>\n",
              "      <th></th>\n",
              "    </tr>\n",
              "  </thead>\n",
              "  <tbody>\n",
              "    <tr>\n",
              "      <th>2021-12-31</th>\n",
              "      <td>153.229996</td>\n",
              "      <td>156.899994</td>\n",
              "      <td>151.070007</td>\n",
              "      <td>151.300003</td>\n",
              "      <td>2543200</td>\n",
              "      <td>0</td>\n",
              "      <td>0</td>\n",
              "    </tr>\n",
              "  </tbody>\n",
              "</table>\n",
              "</div>\n",
              "      <button class=\"colab-df-convert\" onclick=\"convertToInteractive('df-b0b0c626-59b0-4850-a33d-222dc1bc2d29')\"\n",
              "              title=\"Convert this dataframe to an interactive table.\"\n",
              "              style=\"display:none;\">\n",
              "        \n",
              "  <svg xmlns=\"http://www.w3.org/2000/svg\" height=\"24px\"viewBox=\"0 0 24 24\"\n",
              "       width=\"24px\">\n",
              "    <path d=\"M0 0h24v24H0V0z\" fill=\"none\"/>\n",
              "    <path d=\"M18.56 5.44l.94 2.06.94-2.06 2.06-.94-2.06-.94-.94-2.06-.94 2.06-2.06.94zm-11 1L8.5 8.5l.94-2.06 2.06-.94-2.06-.94L8.5 2.5l-.94 2.06-2.06.94zm10 10l.94 2.06.94-2.06 2.06-.94-2.06-.94-.94-2.06-.94 2.06-2.06.94z\"/><path d=\"M17.41 7.96l-1.37-1.37c-.4-.4-.92-.59-1.43-.59-.52 0-1.04.2-1.43.59L10.3 9.45l-7.72 7.72c-.78.78-.78 2.05 0 2.83L4 21.41c.39.39.9.59 1.41.59.51 0 1.02-.2 1.41-.59l7.78-7.78 2.81-2.81c.8-.78.8-2.07 0-2.86zM5.41 20L4 18.59l7.72-7.72 1.47 1.35L5.41 20z\"/>\n",
              "  </svg>\n",
              "      </button>\n",
              "      \n",
              "  <style>\n",
              "    .colab-df-container {\n",
              "      display:flex;\n",
              "      flex-wrap:wrap;\n",
              "      gap: 12px;\n",
              "    }\n",
              "\n",
              "    .colab-df-convert {\n",
              "      background-color: #E8F0FE;\n",
              "      border: none;\n",
              "      border-radius: 50%;\n",
              "      cursor: pointer;\n",
              "      display: none;\n",
              "      fill: #1967D2;\n",
              "      height: 32px;\n",
              "      padding: 0 0 0 0;\n",
              "      width: 32px;\n",
              "    }\n",
              "\n",
              "    .colab-df-convert:hover {\n",
              "      background-color: #E2EBFA;\n",
              "      box-shadow: 0px 1px 2px rgba(60, 64, 67, 0.3), 0px 1px 3px 1px rgba(60, 64, 67, 0.15);\n",
              "      fill: #174EA6;\n",
              "    }\n",
              "\n",
              "    [theme=dark] .colab-df-convert {\n",
              "      background-color: #3B4455;\n",
              "      fill: #D2E3FC;\n",
              "    }\n",
              "\n",
              "    [theme=dark] .colab-df-convert:hover {\n",
              "      background-color: #434B5C;\n",
              "      box-shadow: 0px 1px 3px 1px rgba(0, 0, 0, 0.15);\n",
              "      filter: drop-shadow(0px 1px 2px rgba(0, 0, 0, 0.3));\n",
              "      fill: #FFFFFF;\n",
              "    }\n",
              "  </style>\n",
              "\n",
              "      <script>\n",
              "        const buttonEl =\n",
              "          document.querySelector('#df-b0b0c626-59b0-4850-a33d-222dc1bc2d29 button.colab-df-convert');\n",
              "        buttonEl.style.display =\n",
              "          google.colab.kernel.accessAllowed ? 'block' : 'none';\n",
              "\n",
              "        async function convertToInteractive(key) {\n",
              "          const element = document.querySelector('#df-b0b0c626-59b0-4850-a33d-222dc1bc2d29');\n",
              "          const dataTable =\n",
              "            await google.colab.kernel.invokeFunction('convertToInteractive',\n",
              "                                                     [key], {});\n",
              "          if (!dataTable) return;\n",
              "\n",
              "          const docLinkHtml = 'Like what you see? Visit the ' +\n",
              "            '<a target=\"_blank\" href=https://colab.research.google.com/notebooks/data_table.ipynb>data table notebook</a>'\n",
              "            + ' to learn more about interactive tables.';\n",
              "          element.innerHTML = '';\n",
              "          dataTable['output_type'] = 'display_data';\n",
              "          await google.colab.output.renderOutput(dataTable, element);\n",
              "          const docLink = document.createElement('div');\n",
              "          docLink.innerHTML = docLinkHtml;\n",
              "          element.appendChild(docLink);\n",
              "        }\n",
              "      </script>\n",
              "    </div>\n",
              "  </div>\n",
              "  "
            ],
            "text/plain": [
              "                  Open        High  ...  Dividends  Stock Splits\n",
              "Date                                ...                         \n",
              "2021-12-31  153.229996  156.899994  ...          0             0\n",
              "\n",
              "[1 rows x 7 columns]"
            ]
          },
          "metadata": {},
          "execution_count": 6
        }
      ]
    },
    {
      "cell_type": "markdown",
      "source": [
        "##Set underlying Price Variable"
      ],
      "metadata": {
        "id": "PZXU8r0QO9ft"
      }
    },
    {
      "cell_type": "code",
      "source": [
        "#underlying Price\n",
        "\n",
        "S = upst_hist.iloc[0]['Close']\n",
        "S"
      ],
      "metadata": {
        "colab": {
          "base_uri": "https://localhost:8080/"
        },
        "id": "SWOcaEteQ75v",
        "outputId": "5e8ee782-6b2c-4768-ac6f-f42632dcc20c"
      },
      "execution_count": 7,
      "outputs": [
        {
          "output_type": "execute_result",
          "data": {
            "text/plain": [
              "151.3000030517578"
            ]
          },
          "metadata": {},
          "execution_count": 7
        }
      ]
    },
    {
      "cell_type": "markdown",
      "source": [
        "#build OTM Options Chain"
      ],
      "metadata": {
        "id": "o5UcNArmP3kL"
      }
    },
    {
      "cell_type": "code",
      "source": [
        "upst_expiries = upst.options\n",
        "\n",
        "upst.opt = upst.option_chain(upst_expiries[3])"
      ],
      "metadata": {
        "id": "0vGK7kIeQMml"
      },
      "execution_count": 8,
      "outputs": []
    },
    {
      "cell_type": "code",
      "source": [
        "puts_otm = upst.opt.puts[upst.opt.puts['strike']<= S]\n",
        "puts_otm['type'] = 'p'\n",
        "calls_otm = upst.opt.calls[upst.opt.calls['strike']>= S]\n",
        "calls_otm['type'] = 'c'"
      ],
      "metadata": {
        "id": "uLyimH6fQpHW"
      },
      "execution_count": 9,
      "outputs": []
    },
    {
      "cell_type": "code",
      "source": [
        "options_list = [puts_otm,calls_otm]\n",
        "options_final = pd.concat(options_list)"
      ],
      "metadata": {
        "id": "_4IA_DucQrh9"
      },
      "execution_count": 10,
      "outputs": []
    },
    {
      "cell_type": "code",
      "source": [
        "options_final['mid'] = ((options_final['ask'] - options_final['bid']) / 2) + options_final['bid']\n"
      ],
      "metadata": {
        "colab": {
          "base_uri": "https://localhost:8080/",
          "height": 112
        },
        "id": "XLtjoLVrSbxV",
        "outputId": "b8702c72-1abf-4251-c39c-11b7625b260a"
      },
      "execution_count": 11,
      "outputs": [
        {
          "output_type": "execute_result",
          "data": {
            "text/html": [
              "\n",
              "  <div id=\"df-c5c5da71-4f98-4794-9876-2f685f96c820\">\n",
              "    <div class=\"colab-df-container\">\n",
              "      <div>\n",
              "<style scoped>\n",
              "    .dataframe tbody tr th:only-of-type {\n",
              "        vertical-align: middle;\n",
              "    }\n",
              "\n",
              "    .dataframe tbody tr th {\n",
              "        vertical-align: top;\n",
              "    }\n",
              "\n",
              "    .dataframe thead th {\n",
              "        text-align: right;\n",
              "    }\n",
              "</style>\n",
              "<table border=\"1\" class=\"dataframe\">\n",
              "  <thead>\n",
              "    <tr style=\"text-align: right;\">\n",
              "      <th></th>\n",
              "      <th>contractSymbol</th>\n",
              "      <th>lastTradeDate</th>\n",
              "      <th>strike</th>\n",
              "      <th>lastPrice</th>\n",
              "      <th>bid</th>\n",
              "      <th>ask</th>\n",
              "      <th>change</th>\n",
              "      <th>percentChange</th>\n",
              "      <th>volume</th>\n",
              "      <th>openInterest</th>\n",
              "      <th>impliedVolatility</th>\n",
              "      <th>inTheMoney</th>\n",
              "      <th>contractSize</th>\n",
              "      <th>currency</th>\n",
              "      <th>type</th>\n",
              "      <th>mid</th>\n",
              "      <th>weighted_K</th>\n",
              "    </tr>\n",
              "  </thead>\n",
              "  <tbody>\n",
              "    <tr>\n",
              "      <th>0</th>\n",
              "      <td>UPST220128P00075000</td>\n",
              "      <td>2021-12-21 16:41:40+00:00</td>\n",
              "      <td>75.0</td>\n",
              "      <td>0.65</td>\n",
              "      <td>0.0</td>\n",
              "      <td>0.3</td>\n",
              "      <td>0.0</td>\n",
              "      <td>0.0</td>\n",
              "      <td>1.0</td>\n",
              "      <td>3</td>\n",
              "      <td>1.136723</td>\n",
              "      <td>False</td>\n",
              "      <td>REGULAR</td>\n",
              "      <td>USD</td>\n",
              "      <td>p</td>\n",
              "      <td>0.15</td>\n",
              "      <td>8.888889</td>\n",
              "    </tr>\n",
              "    <tr>\n",
              "      <th>1</th>\n",
              "      <td>UPST220128P00080000</td>\n",
              "      <td>2021-12-27 15:41:47+00:00</td>\n",
              "      <td>80.0</td>\n",
              "      <td>0.27</td>\n",
              "      <td>0.0</td>\n",
              "      <td>0.3</td>\n",
              "      <td>0.0</td>\n",
              "      <td>0.0</td>\n",
              "      <td>1.0</td>\n",
              "      <td>1</td>\n",
              "      <td>1.041020</td>\n",
              "      <td>False</td>\n",
              "      <td>REGULAR</td>\n",
              "      <td>USD</td>\n",
              "      <td>p</td>\n",
              "      <td>0.15</td>\n",
              "      <td>7.812500</td>\n",
              "    </tr>\n",
              "  </tbody>\n",
              "</table>\n",
              "</div>\n",
              "      <button class=\"colab-df-convert\" onclick=\"convertToInteractive('df-c5c5da71-4f98-4794-9876-2f685f96c820')\"\n",
              "              title=\"Convert this dataframe to an interactive table.\"\n",
              "              style=\"display:none;\">\n",
              "        \n",
              "  <svg xmlns=\"http://www.w3.org/2000/svg\" height=\"24px\"viewBox=\"0 0 24 24\"\n",
              "       width=\"24px\">\n",
              "    <path d=\"M0 0h24v24H0V0z\" fill=\"none\"/>\n",
              "    <path d=\"M18.56 5.44l.94 2.06.94-2.06 2.06-.94-2.06-.94-.94-2.06-.94 2.06-2.06.94zm-11 1L8.5 8.5l.94-2.06 2.06-.94-2.06-.94L8.5 2.5l-.94 2.06-2.06.94zm10 10l.94 2.06.94-2.06 2.06-.94-2.06-.94-.94-2.06-.94 2.06-2.06.94z\"/><path d=\"M17.41 7.96l-1.37-1.37c-.4-.4-.92-.59-1.43-.59-.52 0-1.04.2-1.43.59L10.3 9.45l-7.72 7.72c-.78.78-.78 2.05 0 2.83L4 21.41c.39.39.9.59 1.41.59.51 0 1.02-.2 1.41-.59l7.78-7.78 2.81-2.81c.8-.78.8-2.07 0-2.86zM5.41 20L4 18.59l7.72-7.72 1.47 1.35L5.41 20z\"/>\n",
              "  </svg>\n",
              "      </button>\n",
              "      \n",
              "  <style>\n",
              "    .colab-df-container {\n",
              "      display:flex;\n",
              "      flex-wrap:wrap;\n",
              "      gap: 12px;\n",
              "    }\n",
              "\n",
              "    .colab-df-convert {\n",
              "      background-color: #E8F0FE;\n",
              "      border: none;\n",
              "      border-radius: 50%;\n",
              "      cursor: pointer;\n",
              "      display: none;\n",
              "      fill: #1967D2;\n",
              "      height: 32px;\n",
              "      padding: 0 0 0 0;\n",
              "      width: 32px;\n",
              "    }\n",
              "\n",
              "    .colab-df-convert:hover {\n",
              "      background-color: #E2EBFA;\n",
              "      box-shadow: 0px 1px 2px rgba(60, 64, 67, 0.3), 0px 1px 3px 1px rgba(60, 64, 67, 0.15);\n",
              "      fill: #174EA6;\n",
              "    }\n",
              "\n",
              "    [theme=dark] .colab-df-convert {\n",
              "      background-color: #3B4455;\n",
              "      fill: #D2E3FC;\n",
              "    }\n",
              "\n",
              "    [theme=dark] .colab-df-convert:hover {\n",
              "      background-color: #434B5C;\n",
              "      box-shadow: 0px 1px 3px 1px rgba(0, 0, 0, 0.15);\n",
              "      filter: drop-shadow(0px 1px 2px rgba(0, 0, 0, 0.3));\n",
              "      fill: #FFFFFF;\n",
              "    }\n",
              "  </style>\n",
              "\n",
              "      <script>\n",
              "        const buttonEl =\n",
              "          document.querySelector('#df-c5c5da71-4f98-4794-9876-2f685f96c820 button.colab-df-convert');\n",
              "        buttonEl.style.display =\n",
              "          google.colab.kernel.accessAllowed ? 'block' : 'none';\n",
              "\n",
              "        async function convertToInteractive(key) {\n",
              "          const element = document.querySelector('#df-c5c5da71-4f98-4794-9876-2f685f96c820');\n",
              "          const dataTable =\n",
              "            await google.colab.kernel.invokeFunction('convertToInteractive',\n",
              "                                                     [key], {});\n",
              "          if (!dataTable) return;\n",
              "\n",
              "          const docLinkHtml = 'Like what you see? Visit the ' +\n",
              "            '<a target=\"_blank\" href=https://colab.research.google.com/notebooks/data_table.ipynb>data table notebook</a>'\n",
              "            + ' to learn more about interactive tables.';\n",
              "          element.innerHTML = '';\n",
              "          dataTable['output_type'] = 'display_data';\n",
              "          await google.colab.output.renderOutput(dataTable, element);\n",
              "          const docLink = document.createElement('div');\n",
              "          docLink.innerHTML = docLinkHtml;\n",
              "          element.appendChild(docLink);\n",
              "        }\n",
              "      </script>\n",
              "    </div>\n",
              "  </div>\n",
              "  "
            ],
            "text/plain": [
              "        contractSymbol             lastTradeDate  strike  ...  type   mid  weighted_K\n",
              "0  UPST220128P00075000 2021-12-21 16:41:40+00:00    75.0  ...     p  0.15    8.888889\n",
              "1  UPST220128P00080000 2021-12-27 15:41:47+00:00    80.0  ...     p  0.15    7.812500\n",
              "\n",
              "[2 rows x 17 columns]"
            ]
          },
          "metadata": {},
          "execution_count": 11
        }
      ]
    },
    {
      "cell_type": "markdown",
      "source": [
        "#Determine Strike Weights"
      ],
      "metadata": {
        "id": "mfskZzD0Px-L"
      }
    },
    {
      "cell_type": "code",
      "source": [
        "# Weighting of the Strikes according to:   K_wt =(c / K^2)\n",
        "\n",
        "\n",
        "options_final['weighted_K'] = 50000 / (options_final['strike']**2)\n",
        "\n",
        "options_final.head(2)"
      ],
      "metadata": {
        "colab": {
          "base_uri": "https://localhost:8080/",
          "height": 210
        },
        "id": "2WXF4gStPiPj",
        "outputId": "82fc156c-3f0c-49f9-c2b3-4d1fe2ba1f7e"
      },
      "execution_count": 27,
      "outputs": [
        {
          "output_type": "execute_result",
          "data": {
            "text/html": [
              "\n",
              "  <div id=\"df-2ef430c7-4e58-4a5c-a1b2-8724e77162dc\">\n",
              "    <div class=\"colab-df-container\">\n",
              "      <div>\n",
              "<style scoped>\n",
              "    .dataframe tbody tr th:only-of-type {\n",
              "        vertical-align: middle;\n",
              "    }\n",
              "\n",
              "    .dataframe tbody tr th {\n",
              "        vertical-align: top;\n",
              "    }\n",
              "\n",
              "    .dataframe thead th {\n",
              "        text-align: right;\n",
              "    }\n",
              "</style>\n",
              "<table border=\"1\" class=\"dataframe\">\n",
              "  <thead>\n",
              "    <tr style=\"text-align: right;\">\n",
              "      <th></th>\n",
              "      <th>contractSymbol</th>\n",
              "      <th>lastTradeDate</th>\n",
              "      <th>strike</th>\n",
              "      <th>lastPrice</th>\n",
              "      <th>bid</th>\n",
              "      <th>ask</th>\n",
              "      <th>change</th>\n",
              "      <th>percentChange</th>\n",
              "      <th>volume</th>\n",
              "      <th>openInterest</th>\n",
              "      <th>impliedVolatility</th>\n",
              "      <th>inTheMoney</th>\n",
              "      <th>contractSize</th>\n",
              "      <th>currency</th>\n",
              "      <th>type</th>\n",
              "      <th>mid</th>\n",
              "      <th>weighted_K</th>\n",
              "      <th>calc_value</th>\n",
              "      <th>delta</th>\n",
              "      <th>gamma</th>\n",
              "      <th>theta</th>\n",
              "      <th>vega</th>\n",
              "      <th>dollar_gamma</th>\n",
              "    </tr>\n",
              "  </thead>\n",
              "  <tbody>\n",
              "    <tr>\n",
              "      <th>0</th>\n",
              "      <td>UPST220128P00075000</td>\n",
              "      <td>2021-12-21 16:41:40+00:00</td>\n",
              "      <td>75.0</td>\n",
              "      <td>0.65</td>\n",
              "      <td>0.0</td>\n",
              "      <td>0.3</td>\n",
              "      <td>0.0</td>\n",
              "      <td>0.0</td>\n",
              "      <td>1.0</td>\n",
              "      <td>3</td>\n",
              "      <td>1.136723</td>\n",
              "      <td>False</td>\n",
              "      <td>REGULAR</td>\n",
              "      <td>USD</td>\n",
              "      <td>p</td>\n",
              "      <td>0.15</td>\n",
              "      <td>8.888889</td>\n",
              "      <td>0.148251</td>\n",
              "      <td>-0.008450</td>\n",
              "      <td>0.000483</td>\n",
              "      <td>-0.019524</td>\n",
              "      <td>0.009638</td>\n",
              "      <td>0.110522</td>\n",
              "    </tr>\n",
              "    <tr>\n",
              "      <th>1</th>\n",
              "      <td>UPST220128P00080000</td>\n",
              "      <td>2021-12-27 15:41:47+00:00</td>\n",
              "      <td>80.0</td>\n",
              "      <td>0.27</td>\n",
              "      <td>0.0</td>\n",
              "      <td>0.3</td>\n",
              "      <td>0.0</td>\n",
              "      <td>0.0</td>\n",
              "      <td>1.0</td>\n",
              "      <td>1</td>\n",
              "      <td>1.041020</td>\n",
              "      <td>False</td>\n",
              "      <td>REGULAR</td>\n",
              "      <td>USD</td>\n",
              "      <td>p</td>\n",
              "      <td>0.15</td>\n",
              "      <td>7.812500</td>\n",
              "      <td>0.148174</td>\n",
              "      <td>-0.009213</td>\n",
              "      <td>0.000569</td>\n",
              "      <td>-0.019284</td>\n",
              "      <td>0.010397</td>\n",
              "      <td>0.130186</td>\n",
              "    </tr>\n",
              "  </tbody>\n",
              "</table>\n",
              "</div>\n",
              "      <button class=\"colab-df-convert\" onclick=\"convertToInteractive('df-2ef430c7-4e58-4a5c-a1b2-8724e77162dc')\"\n",
              "              title=\"Convert this dataframe to an interactive table.\"\n",
              "              style=\"display:none;\">\n",
              "        \n",
              "  <svg xmlns=\"http://www.w3.org/2000/svg\" height=\"24px\"viewBox=\"0 0 24 24\"\n",
              "       width=\"24px\">\n",
              "    <path d=\"M0 0h24v24H0V0z\" fill=\"none\"/>\n",
              "    <path d=\"M18.56 5.44l.94 2.06.94-2.06 2.06-.94-2.06-.94-.94-2.06-.94 2.06-2.06.94zm-11 1L8.5 8.5l.94-2.06 2.06-.94-2.06-.94L8.5 2.5l-.94 2.06-2.06.94zm10 10l.94 2.06.94-2.06 2.06-.94-2.06-.94-.94-2.06-.94 2.06-2.06.94z\"/><path d=\"M17.41 7.96l-1.37-1.37c-.4-.4-.92-.59-1.43-.59-.52 0-1.04.2-1.43.59L10.3 9.45l-7.72 7.72c-.78.78-.78 2.05 0 2.83L4 21.41c.39.39.9.59 1.41.59.51 0 1.02-.2 1.41-.59l7.78-7.78 2.81-2.81c.8-.78.8-2.07 0-2.86zM5.41 20L4 18.59l7.72-7.72 1.47 1.35L5.41 20z\"/>\n",
              "  </svg>\n",
              "      </button>\n",
              "      \n",
              "  <style>\n",
              "    .colab-df-container {\n",
              "      display:flex;\n",
              "      flex-wrap:wrap;\n",
              "      gap: 12px;\n",
              "    }\n",
              "\n",
              "    .colab-df-convert {\n",
              "      background-color: #E8F0FE;\n",
              "      border: none;\n",
              "      border-radius: 50%;\n",
              "      cursor: pointer;\n",
              "      display: none;\n",
              "      fill: #1967D2;\n",
              "      height: 32px;\n",
              "      padding: 0 0 0 0;\n",
              "      width: 32px;\n",
              "    }\n",
              "\n",
              "    .colab-df-convert:hover {\n",
              "      background-color: #E2EBFA;\n",
              "      box-shadow: 0px 1px 2px rgba(60, 64, 67, 0.3), 0px 1px 3px 1px rgba(60, 64, 67, 0.15);\n",
              "      fill: #174EA6;\n",
              "    }\n",
              "\n",
              "    [theme=dark] .colab-df-convert {\n",
              "      background-color: #3B4455;\n",
              "      fill: #D2E3FC;\n",
              "    }\n",
              "\n",
              "    [theme=dark] .colab-df-convert:hover {\n",
              "      background-color: #434B5C;\n",
              "      box-shadow: 0px 1px 3px 1px rgba(0, 0, 0, 0.15);\n",
              "      filter: drop-shadow(0px 1px 2px rgba(0, 0, 0, 0.3));\n",
              "      fill: #FFFFFF;\n",
              "    }\n",
              "  </style>\n",
              "\n",
              "      <script>\n",
              "        const buttonEl =\n",
              "          document.querySelector('#df-2ef430c7-4e58-4a5c-a1b2-8724e77162dc button.colab-df-convert');\n",
              "        buttonEl.style.display =\n",
              "          google.colab.kernel.accessAllowed ? 'block' : 'none';\n",
              "\n",
              "        async function convertToInteractive(key) {\n",
              "          const element = document.querySelector('#df-2ef430c7-4e58-4a5c-a1b2-8724e77162dc');\n",
              "          const dataTable =\n",
              "            await google.colab.kernel.invokeFunction('convertToInteractive',\n",
              "                                                     [key], {});\n",
              "          if (!dataTable) return;\n",
              "\n",
              "          const docLinkHtml = 'Like what you see? Visit the ' +\n",
              "            '<a target=\"_blank\" href=https://colab.research.google.com/notebooks/data_table.ipynb>data table notebook</a>'\n",
              "            + ' to learn more about interactive tables.';\n",
              "          element.innerHTML = '';\n",
              "          dataTable['output_type'] = 'display_data';\n",
              "          await google.colab.output.renderOutput(dataTable, element);\n",
              "          const docLink = document.createElement('div');\n",
              "          docLink.innerHTML = docLinkHtml;\n",
              "          element.appendChild(docLink);\n",
              "        }\n",
              "      </script>\n",
              "    </div>\n",
              "  </div>\n",
              "  "
            ],
            "text/plain": [
              "        contractSymbol             lastTradeDate  ...      vega  dollar_gamma\n",
              "0  UPST220128P00075000 2021-12-21 16:41:40+00:00  ...  0.009638      0.110522\n",
              "1  UPST220128P00080000 2021-12-27 15:41:47+00:00  ...  0.010397      0.130186\n",
              "\n",
              "[2 rows x 23 columns]"
            ]
          },
          "metadata": {},
          "execution_count": 27
        }
      ]
    },
    {
      "cell_type": "code",
      "source": [
        "# bsm=op.black_scholes(K=135, St=S, r=1.01, t=28, \n",
        "#                      v=81, type=type)\n",
        "# bsm['value']['option value']\n",
        "# bsm"
      ],
      "metadata": {
        "id": "8a11b5MwTRfz"
      },
      "execution_count": 28,
      "outputs": []
    },
    {
      "cell_type": "code",
      "source": [
        "# options_final['calc_value'] = options_final.apply(lambda x: bsm(x['strike'], S, 1.01, 28, x['impliedVolatility'],x['type']),axis=1)"
      ],
      "metadata": {
        "id": "o8n-hoAZW4Os"
      },
      "execution_count": 15,
      "outputs": []
    },
    {
      "cell_type": "markdown",
      "source": [
        "#Calculate Greeks; Static Price, Vol, DTE"
      ],
      "metadata": {
        "id": "V41Ro5lwQBHT"
      }
    },
    {
      "cell_type": "code",
      "source": [
        "# S = upst_hist.iloc[0]['Close']\n",
        "\n",
        "values = []\n",
        "delta = []\n",
        "gamma = []\n",
        "theta = []\n",
        "vega = []\n",
        "\n",
        "for i in range(len(options_final)):\n",
        "  K = options_final.iloc[i]['strike']\n",
        "  St = S\n",
        "  r = 1.01\n",
        "  t = 28\n",
        "  v = options_final.iloc[i]['impliedVolatility']\n",
        "  type = options_final.iloc[i]['type']\n",
        "  \n",
        "  # print(\"inputs: \", K, St, r, t, v, type)\n",
        "\n",
        "  n = op.black_scholes(K=K, St=S, r=r, t=t, \n",
        "                     v=v*100, type=type)\n",
        "\n",
        "  val = n['value']['option value']\n",
        "  de = n['greeks']['delta']\n",
        "  ga = n['greeks']['gamma']\n",
        "  th = n['greeks']['theta']\n",
        "  ve = n['greeks']['vega']\n",
        "  \n",
        "  \n",
        "  \n",
        "  values.append(val)\n",
        "  delta.append(de)\n",
        "  gamma.append(ga)\n",
        "  theta.append(th)\n",
        "  vega.append(ve)\n"
      ],
      "metadata": {
        "id": "Y03iWf5DYxTr"
      },
      "execution_count": 16,
      "outputs": []
    },
    {
      "cell_type": "code",
      "source": [
        "options_final['calc_value'] = values\n",
        "options_final['delta'] = delta\n",
        "options_final['gamma'] = gamma\n",
        "options_final['theta'] = theta\n",
        "options_final['vega'] = vega\n",
        "options_final['dollar_gamma'] = (options_final['gamma']/100) * S**2"
      ],
      "metadata": {
        "id": "WOyCNkzJaL3D"
      },
      "execution_count": 17,
      "outputs": []
    },
    {
      "cell_type": "code",
      "source": [
        "options_final.head(3)"
      ],
      "metadata": {
        "colab": {
          "base_uri": "https://localhost:8080/",
          "height": 260
        },
        "id": "8-GFaK3XaQti",
        "outputId": "5a68cd96-0a07-4d7a-d368-6efe99dc335d"
      },
      "execution_count": 18,
      "outputs": [
        {
          "output_type": "execute_result",
          "data": {
            "text/html": [
              "\n",
              "  <div id=\"df-4d36373e-8760-47d2-b2d0-3da02b91493c\">\n",
              "    <div class=\"colab-df-container\">\n",
              "      <div>\n",
              "<style scoped>\n",
              "    .dataframe tbody tr th:only-of-type {\n",
              "        vertical-align: middle;\n",
              "    }\n",
              "\n",
              "    .dataframe tbody tr th {\n",
              "        vertical-align: top;\n",
              "    }\n",
              "\n",
              "    .dataframe thead th {\n",
              "        text-align: right;\n",
              "    }\n",
              "</style>\n",
              "<table border=\"1\" class=\"dataframe\">\n",
              "  <thead>\n",
              "    <tr style=\"text-align: right;\">\n",
              "      <th></th>\n",
              "      <th>contractSymbol</th>\n",
              "      <th>lastTradeDate</th>\n",
              "      <th>strike</th>\n",
              "      <th>lastPrice</th>\n",
              "      <th>bid</th>\n",
              "      <th>ask</th>\n",
              "      <th>change</th>\n",
              "      <th>percentChange</th>\n",
              "      <th>volume</th>\n",
              "      <th>openInterest</th>\n",
              "      <th>impliedVolatility</th>\n",
              "      <th>inTheMoney</th>\n",
              "      <th>contractSize</th>\n",
              "      <th>currency</th>\n",
              "      <th>type</th>\n",
              "      <th>mid</th>\n",
              "      <th>weighted_K</th>\n",
              "      <th>calc_value</th>\n",
              "      <th>delta</th>\n",
              "      <th>gamma</th>\n",
              "      <th>theta</th>\n",
              "      <th>vega</th>\n",
              "      <th>dollar_gamma</th>\n",
              "    </tr>\n",
              "  </thead>\n",
              "  <tbody>\n",
              "    <tr>\n",
              "      <th>0</th>\n",
              "      <td>UPST220128P00075000</td>\n",
              "      <td>2021-12-21 16:41:40+00:00</td>\n",
              "      <td>75.0</td>\n",
              "      <td>0.65</td>\n",
              "      <td>0.0</td>\n",
              "      <td>0.30</td>\n",
              "      <td>0.0</td>\n",
              "      <td>0.0</td>\n",
              "      <td>1.0</td>\n",
              "      <td>3</td>\n",
              "      <td>1.136723</td>\n",
              "      <td>False</td>\n",
              "      <td>REGULAR</td>\n",
              "      <td>USD</td>\n",
              "      <td>p</td>\n",
              "      <td>0.150</td>\n",
              "      <td>8.888889</td>\n",
              "      <td>0.148251</td>\n",
              "      <td>-0.008450</td>\n",
              "      <td>0.000483</td>\n",
              "      <td>-0.019524</td>\n",
              "      <td>0.009638</td>\n",
              "      <td>0.110522</td>\n",
              "    </tr>\n",
              "    <tr>\n",
              "      <th>1</th>\n",
              "      <td>UPST220128P00080000</td>\n",
              "      <td>2021-12-27 15:41:47+00:00</td>\n",
              "      <td>80.0</td>\n",
              "      <td>0.27</td>\n",
              "      <td>0.0</td>\n",
              "      <td>0.30</td>\n",
              "      <td>0.0</td>\n",
              "      <td>0.0</td>\n",
              "      <td>1.0</td>\n",
              "      <td>1</td>\n",
              "      <td>1.041020</td>\n",
              "      <td>False</td>\n",
              "      <td>REGULAR</td>\n",
              "      <td>USD</td>\n",
              "      <td>p</td>\n",
              "      <td>0.150</td>\n",
              "      <td>7.812500</td>\n",
              "      <td>0.148174</td>\n",
              "      <td>-0.009213</td>\n",
              "      <td>0.000569</td>\n",
              "      <td>-0.019284</td>\n",
              "      <td>0.010397</td>\n",
              "      <td>0.130186</td>\n",
              "    </tr>\n",
              "    <tr>\n",
              "      <th>2</th>\n",
              "      <td>UPST220128P00085000</td>\n",
              "      <td>2021-12-30 18:13:06+00:00</td>\n",
              "      <td>85.0</td>\n",
              "      <td>0.17</td>\n",
              "      <td>0.0</td>\n",
              "      <td>0.35</td>\n",
              "      <td>0.0</td>\n",
              "      <td>0.0</td>\n",
              "      <td>1.0</td>\n",
              "      <td>2</td>\n",
              "      <td>0.972657</td>\n",
              "      <td>False</td>\n",
              "      <td>REGULAR</td>\n",
              "      <td>USD</td>\n",
              "      <td>p</td>\n",
              "      <td>0.175</td>\n",
              "      <td>6.920415</td>\n",
              "      <td>0.173883</td>\n",
              "      <td>-0.011364</td>\n",
              "      <td>0.000731</td>\n",
              "      <td>-0.021632</td>\n",
              "      <td>0.012485</td>\n",
              "      <td>0.167323</td>\n",
              "    </tr>\n",
              "  </tbody>\n",
              "</table>\n",
              "</div>\n",
              "      <button class=\"colab-df-convert\" onclick=\"convertToInteractive('df-4d36373e-8760-47d2-b2d0-3da02b91493c')\"\n",
              "              title=\"Convert this dataframe to an interactive table.\"\n",
              "              style=\"display:none;\">\n",
              "        \n",
              "  <svg xmlns=\"http://www.w3.org/2000/svg\" height=\"24px\"viewBox=\"0 0 24 24\"\n",
              "       width=\"24px\">\n",
              "    <path d=\"M0 0h24v24H0V0z\" fill=\"none\"/>\n",
              "    <path d=\"M18.56 5.44l.94 2.06.94-2.06 2.06-.94-2.06-.94-.94-2.06-.94 2.06-2.06.94zm-11 1L8.5 8.5l.94-2.06 2.06-.94-2.06-.94L8.5 2.5l-.94 2.06-2.06.94zm10 10l.94 2.06.94-2.06 2.06-.94-2.06-.94-.94-2.06-.94 2.06-2.06.94z\"/><path d=\"M17.41 7.96l-1.37-1.37c-.4-.4-.92-.59-1.43-.59-.52 0-1.04.2-1.43.59L10.3 9.45l-7.72 7.72c-.78.78-.78 2.05 0 2.83L4 21.41c.39.39.9.59 1.41.59.51 0 1.02-.2 1.41-.59l7.78-7.78 2.81-2.81c.8-.78.8-2.07 0-2.86zM5.41 20L4 18.59l7.72-7.72 1.47 1.35L5.41 20z\"/>\n",
              "  </svg>\n",
              "      </button>\n",
              "      \n",
              "  <style>\n",
              "    .colab-df-container {\n",
              "      display:flex;\n",
              "      flex-wrap:wrap;\n",
              "      gap: 12px;\n",
              "    }\n",
              "\n",
              "    .colab-df-convert {\n",
              "      background-color: #E8F0FE;\n",
              "      border: none;\n",
              "      border-radius: 50%;\n",
              "      cursor: pointer;\n",
              "      display: none;\n",
              "      fill: #1967D2;\n",
              "      height: 32px;\n",
              "      padding: 0 0 0 0;\n",
              "      width: 32px;\n",
              "    }\n",
              "\n",
              "    .colab-df-convert:hover {\n",
              "      background-color: #E2EBFA;\n",
              "      box-shadow: 0px 1px 2px rgba(60, 64, 67, 0.3), 0px 1px 3px 1px rgba(60, 64, 67, 0.15);\n",
              "      fill: #174EA6;\n",
              "    }\n",
              "\n",
              "    [theme=dark] .colab-df-convert {\n",
              "      background-color: #3B4455;\n",
              "      fill: #D2E3FC;\n",
              "    }\n",
              "\n",
              "    [theme=dark] .colab-df-convert:hover {\n",
              "      background-color: #434B5C;\n",
              "      box-shadow: 0px 1px 3px 1px rgba(0, 0, 0, 0.15);\n",
              "      filter: drop-shadow(0px 1px 2px rgba(0, 0, 0, 0.3));\n",
              "      fill: #FFFFFF;\n",
              "    }\n",
              "  </style>\n",
              "\n",
              "      <script>\n",
              "        const buttonEl =\n",
              "          document.querySelector('#df-4d36373e-8760-47d2-b2d0-3da02b91493c button.colab-df-convert');\n",
              "        buttonEl.style.display =\n",
              "          google.colab.kernel.accessAllowed ? 'block' : 'none';\n",
              "\n",
              "        async function convertToInteractive(key) {\n",
              "          const element = document.querySelector('#df-4d36373e-8760-47d2-b2d0-3da02b91493c');\n",
              "          const dataTable =\n",
              "            await google.colab.kernel.invokeFunction('convertToInteractive',\n",
              "                                                     [key], {});\n",
              "          if (!dataTable) return;\n",
              "\n",
              "          const docLinkHtml = 'Like what you see? Visit the ' +\n",
              "            '<a target=\"_blank\" href=https://colab.research.google.com/notebooks/data_table.ipynb>data table notebook</a>'\n",
              "            + ' to learn more about interactive tables.';\n",
              "          element.innerHTML = '';\n",
              "          dataTable['output_type'] = 'display_data';\n",
              "          await google.colab.output.renderOutput(dataTable, element);\n",
              "          const docLink = document.createElement('div');\n",
              "          docLink.innerHTML = docLinkHtml;\n",
              "          element.appendChild(docLink);\n",
              "        }\n",
              "      </script>\n",
              "    </div>\n",
              "  </div>\n",
              "  "
            ],
            "text/plain": [
              "        contractSymbol             lastTradeDate  ...      vega  dollar_gamma\n",
              "0  UPST220128P00075000 2021-12-21 16:41:40+00:00  ...  0.009638      0.110522\n",
              "1  UPST220128P00080000 2021-12-27 15:41:47+00:00  ...  0.010397      0.130186\n",
              "2  UPST220128P00085000 2021-12-30 18:13:06+00:00  ...  0.012485      0.167323\n",
              "\n",
              "[3 rows x 23 columns]"
            ]
          },
          "metadata": {},
          "execution_count": 18
        }
      ]
    },
    {
      "cell_type": "markdown",
      "source": [
        "#Select Strikes for Synth Var Swap (Manual)"
      ],
      "metadata": {
        "id": "ALJBYoM8QI_b"
      }
    },
    {
      "cell_type": "code",
      "source": [
        "K_select = [90,110,130,150,170,190,210,230]"
      ],
      "metadata": {
        "id": "xluFqESxa9X7"
      },
      "execution_count": 19,
      "outputs": []
    },
    {
      "cell_type": "code",
      "source": [
        "v_ops = options_final[options_final['strike'].isin(K_select)]\n",
        "v_ops['wt_K'] = round(v_ops['weighted_K'])"
      ],
      "metadata": {
        "id": "_oFzCo_HewrK"
      },
      "execution_count": 20,
      "outputs": []
    },
    {
      "cell_type": "markdown",
      "source": [
        "#Calc Position Greeks"
      ],
      "metadata": {
        "id": "wuT4dv_RQQjT"
      }
    },
    {
      "cell_type": "code",
      "source": [
        "v_ops['pos_delta'] = v_ops['delta'] * v_ops['wt_K'] * -1\n",
        "v_ops['pos_gamma'] = v_ops['gamma'] * v_ops['wt_K'] * -1\n",
        "v_ops['pos_theta'] = v_ops['theta'] * v_ops['wt_K'] * -1\n",
        "v_ops['pos_vega'] = v_ops['vega'] * v_ops['wt_K'] * -1\n",
        "v_ops['pos_dollar_gamma'] = v_ops['dollar_gamma'] * v_ops['wt_K']\n",
        "\n",
        "v_ops['pos_premium'] = v_ops['calc_value'] * v_ops['wt_K']"
      ],
      "metadata": {
        "id": "O9SEFjAOfdNB"
      },
      "execution_count": 21,
      "outputs": []
    },
    {
      "cell_type": "code",
      "source": [
        "v_ops.head()"
      ],
      "metadata": {
        "colab": {
          "base_uri": "https://localhost:8080/",
          "height": 357
        },
        "id": "FKTKy5q_j1Mr",
        "outputId": "aae7e545-c089-4de4-b45f-251e73095601"
      },
      "execution_count": 29,
      "outputs": [
        {
          "output_type": "execute_result",
          "data": {
            "text/html": [
              "\n",
              "  <div id=\"df-0aa301cb-8d31-41ea-b0e4-17d1fd818b5f\">\n",
              "    <div class=\"colab-df-container\">\n",
              "      <div>\n",
              "<style scoped>\n",
              "    .dataframe tbody tr th:only-of-type {\n",
              "        vertical-align: middle;\n",
              "    }\n",
              "\n",
              "    .dataframe tbody tr th {\n",
              "        vertical-align: top;\n",
              "    }\n",
              "\n",
              "    .dataframe thead th {\n",
              "        text-align: right;\n",
              "    }\n",
              "</style>\n",
              "<table border=\"1\" class=\"dataframe\">\n",
              "  <thead>\n",
              "    <tr style=\"text-align: right;\">\n",
              "      <th></th>\n",
              "      <th>contractSymbol</th>\n",
              "      <th>lastTradeDate</th>\n",
              "      <th>strike</th>\n",
              "      <th>lastPrice</th>\n",
              "      <th>bid</th>\n",
              "      <th>ask</th>\n",
              "      <th>change</th>\n",
              "      <th>percentChange</th>\n",
              "      <th>volume</th>\n",
              "      <th>openInterest</th>\n",
              "      <th>impliedVolatility</th>\n",
              "      <th>inTheMoney</th>\n",
              "      <th>contractSize</th>\n",
              "      <th>currency</th>\n",
              "      <th>type</th>\n",
              "      <th>mid</th>\n",
              "      <th>weighted_K</th>\n",
              "      <th>calc_value</th>\n",
              "      <th>delta</th>\n",
              "      <th>gamma</th>\n",
              "      <th>theta</th>\n",
              "      <th>vega</th>\n",
              "      <th>dollar_gamma</th>\n",
              "      <th>wt_K</th>\n",
              "      <th>pos_delta</th>\n",
              "      <th>pos_gamma</th>\n",
              "      <th>pos_theta</th>\n",
              "      <th>pos_vega</th>\n",
              "      <th>pos_dollar_gamma</th>\n",
              "      <th>pos_premium</th>\n",
              "    </tr>\n",
              "  </thead>\n",
              "  <tbody>\n",
              "    <tr>\n",
              "      <th>3</th>\n",
              "      <td>UPST220128P00090000</td>\n",
              "      <td>2021-12-29 19:58:23+00:00</td>\n",
              "      <td>90.0</td>\n",
              "      <td>0.49</td>\n",
              "      <td>0.10</td>\n",
              "      <td>0.45</td>\n",
              "      <td>0.00</td>\n",
              "      <td>0.000000</td>\n",
              "      <td>1.0</td>\n",
              "      <td>20</td>\n",
              "      <td>0.949219</td>\n",
              "      <td>False</td>\n",
              "      <td>REGULAR</td>\n",
              "      <td>USD</td>\n",
              "      <td>p</td>\n",
              "      <td>0.275</td>\n",
              "      <td>6.172840</td>\n",
              "      <td>0.273712</td>\n",
              "      <td>-0.017419</td>\n",
              "      <td>0.001082</td>\n",
              "      <td>-0.030496</td>\n",
              "      <td>0.018039</td>\n",
              "      <td>0.247732</td>\n",
              "      <td>6.0</td>\n",
              "      <td>0.104517</td>\n",
              "      <td>-0.006493</td>\n",
              "      <td>0.182978</td>\n",
              "      <td>-0.108234</td>\n",
              "      <td>1.486390</td>\n",
              "      <td>1.642273</td>\n",
              "    </tr>\n",
              "    <tr>\n",
              "      <th>7</th>\n",
              "      <td>UPST220128P00110000</td>\n",
              "      <td>2021-12-31 18:08:51+00:00</td>\n",
              "      <td>110.0</td>\n",
              "      <td>0.90</td>\n",
              "      <td>0.85</td>\n",
              "      <td>1.20</td>\n",
              "      <td>-0.07</td>\n",
              "      <td>-7.216500</td>\n",
              "      <td>8.0</td>\n",
              "      <td>72</td>\n",
              "      <td>0.812990</td>\n",
              "      <td>False</td>\n",
              "      <td>REGULAR</td>\n",
              "      <td>USD</td>\n",
              "      <td>p</td>\n",
              "      <td>1.025</td>\n",
              "      <td>4.132231</td>\n",
              "      <td>1.016026</td>\n",
              "      <td>-0.062792</td>\n",
              "      <td>0.003623</td>\n",
              "      <td>-0.074801</td>\n",
              "      <td>0.051724</td>\n",
              "      <td>0.829365</td>\n",
              "      <td>4.0</td>\n",
              "      <td>0.251167</td>\n",
              "      <td>-0.014492</td>\n",
              "      <td>0.299204</td>\n",
              "      <td>-0.206898</td>\n",
              "      <td>3.317459</td>\n",
              "      <td>4.064105</td>\n",
              "    </tr>\n",
              "    <tr>\n",
              "      <th>11</th>\n",
              "      <td>UPST220128P00130000</td>\n",
              "      <td>2021-12-31 20:11:34+00:00</td>\n",
              "      <td>130.0</td>\n",
              "      <td>4.38</td>\n",
              "      <td>4.10</td>\n",
              "      <td>5.30</td>\n",
              "      <td>0.18</td>\n",
              "      <td>4.285722</td>\n",
              "      <td>14.0</td>\n",
              "      <td>74</td>\n",
              "      <td>0.813112</td>\n",
              "      <td>False</td>\n",
              "      <td>REGULAR</td>\n",
              "      <td>USD</td>\n",
              "      <td>p</td>\n",
              "      <td>4.700</td>\n",
              "      <td>2.958580</td>\n",
              "      <td>4.671392</td>\n",
              "      <td>-0.214828</td>\n",
              "      <td>0.008571</td>\n",
              "      <td>-0.176676</td>\n",
              "      <td>0.122387</td>\n",
              "      <td>1.962096</td>\n",
              "      <td>3.0</td>\n",
              "      <td>0.644485</td>\n",
              "      <td>-0.025714</td>\n",
              "      <td>0.530027</td>\n",
              "      <td>-0.367161</td>\n",
              "      <td>5.886287</td>\n",
              "      <td>14.014175</td>\n",
              "    </tr>\n",
              "    <tr>\n",
              "      <th>15</th>\n",
              "      <td>UPST220128P00150000</td>\n",
              "      <td>2021-12-31 20:11:34+00:00</td>\n",
              "      <td>150.0</td>\n",
              "      <td>12.01</td>\n",
              "      <td>12.20</td>\n",
              "      <td>13.40</td>\n",
              "      <td>-0.99</td>\n",
              "      <td>-7.615383</td>\n",
              "      <td>10.0</td>\n",
              "      <td>80</td>\n",
              "      <td>0.809084</td>\n",
              "      <td>False</td>\n",
              "      <td>REGULAR</td>\n",
              "      <td>USD</td>\n",
              "      <td>p</td>\n",
              "      <td>12.800</td>\n",
              "      <td>2.222222</td>\n",
              "      <td>12.738451</td>\n",
              "      <td>-0.438800</td>\n",
              "      <td>0.011628</td>\n",
              "      <td>-0.236502</td>\n",
              "      <td>0.165208</td>\n",
              "      <td>2.661780</td>\n",
              "      <td>2.0</td>\n",
              "      <td>0.877601</td>\n",
              "      <td>-0.023255</td>\n",
              "      <td>0.473003</td>\n",
              "      <td>-0.330416</td>\n",
              "      <td>5.323561</td>\n",
              "      <td>25.476902</td>\n",
              "    </tr>\n",
              "    <tr>\n",
              "      <th>14</th>\n",
              "      <td>UPST220128C00170000</td>\n",
              "      <td>2021-12-31 20:58:43+00:00</td>\n",
              "      <td>170.0</td>\n",
              "      <td>7.10</td>\n",
              "      <td>6.30</td>\n",
              "      <td>7.70</td>\n",
              "      <td>-4.69</td>\n",
              "      <td>-39.779476</td>\n",
              "      <td>12.0</td>\n",
              "      <td>74</td>\n",
              "      <td>0.817751</td>\n",
              "      <td>False</td>\n",
              "      <td>REGULAR</td>\n",
              "      <td>USD</td>\n",
              "      <td>c</td>\n",
              "      <td>7.000</td>\n",
              "      <td>1.730104</td>\n",
              "      <td>7.035354</td>\n",
              "      <td>0.345371</td>\n",
              "      <td>0.010756</td>\n",
              "      <td>-0.226802</td>\n",
              "      <td>0.154458</td>\n",
              "      <td>2.462207</td>\n",
              "      <td>2.0</td>\n",
              "      <td>-0.690742</td>\n",
              "      <td>-0.021512</td>\n",
              "      <td>0.453604</td>\n",
              "      <td>-0.308916</td>\n",
              "      <td>4.924415</td>\n",
              "      <td>14.070708</td>\n",
              "    </tr>\n",
              "  </tbody>\n",
              "</table>\n",
              "</div>\n",
              "      <button class=\"colab-df-convert\" onclick=\"convertToInteractive('df-0aa301cb-8d31-41ea-b0e4-17d1fd818b5f')\"\n",
              "              title=\"Convert this dataframe to an interactive table.\"\n",
              "              style=\"display:none;\">\n",
              "        \n",
              "  <svg xmlns=\"http://www.w3.org/2000/svg\" height=\"24px\"viewBox=\"0 0 24 24\"\n",
              "       width=\"24px\">\n",
              "    <path d=\"M0 0h24v24H0V0z\" fill=\"none\"/>\n",
              "    <path d=\"M18.56 5.44l.94 2.06.94-2.06 2.06-.94-2.06-.94-.94-2.06-.94 2.06-2.06.94zm-11 1L8.5 8.5l.94-2.06 2.06-.94-2.06-.94L8.5 2.5l-.94 2.06-2.06.94zm10 10l.94 2.06.94-2.06 2.06-.94-2.06-.94-.94-2.06-.94 2.06-2.06.94z\"/><path d=\"M17.41 7.96l-1.37-1.37c-.4-.4-.92-.59-1.43-.59-.52 0-1.04.2-1.43.59L10.3 9.45l-7.72 7.72c-.78.78-.78 2.05 0 2.83L4 21.41c.39.39.9.59 1.41.59.51 0 1.02-.2 1.41-.59l7.78-7.78 2.81-2.81c.8-.78.8-2.07 0-2.86zM5.41 20L4 18.59l7.72-7.72 1.47 1.35L5.41 20z\"/>\n",
              "  </svg>\n",
              "      </button>\n",
              "      \n",
              "  <style>\n",
              "    .colab-df-container {\n",
              "      display:flex;\n",
              "      flex-wrap:wrap;\n",
              "      gap: 12px;\n",
              "    }\n",
              "\n",
              "    .colab-df-convert {\n",
              "      background-color: #E8F0FE;\n",
              "      border: none;\n",
              "      border-radius: 50%;\n",
              "      cursor: pointer;\n",
              "      display: none;\n",
              "      fill: #1967D2;\n",
              "      height: 32px;\n",
              "      padding: 0 0 0 0;\n",
              "      width: 32px;\n",
              "    }\n",
              "\n",
              "    .colab-df-convert:hover {\n",
              "      background-color: #E2EBFA;\n",
              "      box-shadow: 0px 1px 2px rgba(60, 64, 67, 0.3), 0px 1px 3px 1px rgba(60, 64, 67, 0.15);\n",
              "      fill: #174EA6;\n",
              "    }\n",
              "\n",
              "    [theme=dark] .colab-df-convert {\n",
              "      background-color: #3B4455;\n",
              "      fill: #D2E3FC;\n",
              "    }\n",
              "\n",
              "    [theme=dark] .colab-df-convert:hover {\n",
              "      background-color: #434B5C;\n",
              "      box-shadow: 0px 1px 3px 1px rgba(0, 0, 0, 0.15);\n",
              "      filter: drop-shadow(0px 1px 2px rgba(0, 0, 0, 0.3));\n",
              "      fill: #FFFFFF;\n",
              "    }\n",
              "  </style>\n",
              "\n",
              "      <script>\n",
              "        const buttonEl =\n",
              "          document.querySelector('#df-0aa301cb-8d31-41ea-b0e4-17d1fd818b5f button.colab-df-convert');\n",
              "        buttonEl.style.display =\n",
              "          google.colab.kernel.accessAllowed ? 'block' : 'none';\n",
              "\n",
              "        async function convertToInteractive(key) {\n",
              "          const element = document.querySelector('#df-0aa301cb-8d31-41ea-b0e4-17d1fd818b5f');\n",
              "          const dataTable =\n",
              "            await google.colab.kernel.invokeFunction('convertToInteractive',\n",
              "                                                     [key], {});\n",
              "          if (!dataTable) return;\n",
              "\n",
              "          const docLinkHtml = 'Like what you see? Visit the ' +\n",
              "            '<a target=\"_blank\" href=https://colab.research.google.com/notebooks/data_table.ipynb>data table notebook</a>'\n",
              "            + ' to learn more about interactive tables.';\n",
              "          element.innerHTML = '';\n",
              "          dataTable['output_type'] = 'display_data';\n",
              "          await google.colab.output.renderOutput(dataTable, element);\n",
              "          const docLink = document.createElement('div');\n",
              "          docLink.innerHTML = docLinkHtml;\n",
              "          element.appendChild(docLink);\n",
              "        }\n",
              "      </script>\n",
              "    </div>\n",
              "  </div>\n",
              "  "
            ],
            "text/plain": [
              "         contractSymbol  ... pos_premium\n",
              "3   UPST220128P00090000  ...    1.642273\n",
              "7   UPST220128P00110000  ...    4.064105\n",
              "11  UPST220128P00130000  ...   14.014175\n",
              "15  UPST220128P00150000  ...   25.476902\n",
              "14  UPST220128C00170000  ...   14.070708\n",
              "\n",
              "[5 rows x 30 columns]"
            ]
          },
          "metadata": {},
          "execution_count": 29
        }
      ]
    },
    {
      "cell_type": "code",
      "source": [
        "print(\"  delta: \",v_ops['pos_delta'].sum()*100,'\\n',\n",
        "' gamma: ',v_ops['pos_gamma'].sum()*100,'\\n',\n",
        "' theta: ',v_ops['pos_theta'].sum()*100,'\\n',\n",
        "'  vega: ', v_ops['pos_vega'].sum()*100, '\\n',\n",
        "'$gamma:', v_ops['pos_dollar_gamma'].sum())\n"
      ],
      "metadata": {
        "colab": {
          "base_uri": "https://localhost:8080/"
        },
        "id": "zzbF0NSQfmPR",
        "outputId": "5d18a101-a69f-41c2-8dbb-a17f25a6ca5d"
      },
      "execution_count": 23,
      "outputs": [
        {
          "output_type": "stream",
          "name": "stdout",
          "text": [
            "  delta:  82.53728230168278 \n",
            "  gamma:  -10.748991360538035 \n",
            "  theta:  231.2090993144475 \n",
            "   vega:  -156.36592763849347 \n",
            " $gamma: 24.606258796439917\n"
          ]
        }
      ]
    },
    {
      "cell_type": "code",
      "source": [
        "v_ops['pos_premium'].sum()*100"
      ],
      "metadata": {
        "colab": {
          "base_uri": "https://localhost:8080/"
        },
        "id": "0jLEMABGg2m5",
        "outputId": "26d2e8ec-1171-48f7-d512-b8b361e8ae3c"
      },
      "execution_count": 24,
      "outputs": [
        {
          "output_type": "execute_result",
          "data": {
            "text/plain": [
              "6527.990535274813"
            ]
          },
          "metadata": {},
          "execution_count": 24
        }
      ]
    },
    {
      "cell_type": "markdown",
      "source": [
        "#Graph Terminal Payout Risk (manual)"
      ],
      "metadata": {
        "id": "SBUGkk8sQajr"
      }
    },
    {
      "cell_type": "code",
      "source": [
        "6,4,3,2,2,1,1,1   #how many of each strike"
      ],
      "metadata": {
        "colab": {
          "base_uri": "https://localhost:8080/"
        },
        "id": "x7Dpyg08jOiZ",
        "outputId": "b86a0ff3-b288-4cb9-f809-9767fb49b77c"
      },
      "execution_count": 30,
      "outputs": [
        {
          "output_type": "execute_result",
          "data": {
            "text/plain": [
              "(6, 4, 3, 2, 2, 1, 1, 1)"
            ]
          },
          "metadata": {},
          "execution_count": 30
        }
      ]
    },
    {
      "cell_type": "code",
      "source": [
        "op1={'op_type': 'p', 'strike': 90, 'tr_type': 's', 'op_pr': .30}\n",
        "op2={'op_type': 'p', 'strike': 110, 'tr_type': 's', 'op_pr': 1.00}\n",
        "op3={'op_type': 'p', 'strike': 130, 'tr_type': 's', 'op_pr': 4.65}\n",
        "op4={'op_type': 'p', 'strike': 150, 'tr_type': 's', 'op_pr': 12.75}\n",
        "op5={'op_type': 'c', 'strike': 170, 'tr_type': 's', 'op_pr': 7.00}\n",
        "op6={'op_type': 'c', 'strike': 190, 'tr_type': 's', 'op_pr': 3.45}\n",
        "op7={'op_type': 'c', 'strike': 210, 'tr_type': 's', 'op_pr': 1.70}\n",
        "op8={'op_type': 'c', 'strike': 230, 'tr_type': 's', 'op_pr': .85}\n",
        "\n",
        "# Using a live fence as a heage as the op.multiplotter cant do a true delta hedge\n",
        "op9={'op_type': 'p', 'strike': 150, 'tr_type': 'b', 'op_pr': 12.75}  #hedge\n",
        "op10={'op_type': 'c', 'strike': 170, 'tr_type': 's', 'op_pr': 7.00}  #hedge\n",
        "\n",
        "\n",
        "op_list=[op1,op1,op1,op1,op1,op1,op2,op2,op2,op2, op3,op3,op3, op4,op4, op5,op5, op6, op7, op8]\n",
        "\n",
        "hedged_op_list=[op1,op1,op1,op1,op1,op1,op2,op2,op2,op2, op3,op3,op3, op4,op4, op5,op5, op6, op7, op8, op9, op10]\n",
        "\n",
        "\n",
        "op.multi_plotter(spot=S,spot_range=(40), op_list=op_list)"
      ],
      "metadata": {
        "colab": {
          "base_uri": "https://localhost:8080/",
          "height": 440
        },
        "id": "JhEKQDj8kuKK",
        "outputId": "7efae763-0a08-4915-ef32-8784227d2253"
      },
      "execution_count": 32,
      "outputs": [
        {
          "output_type": "display_data",
          "data": {
            "image/png": "[encoded data removed]",
            "text/plain": [
              "<Figure size 720x432 with 1 Axes>"
            ]
          },
          "metadata": {
            "needs_background": "light"
          }
        }
      ]
    },
    {
      "cell_type": "code",
      "source": [
        "op.multi_plotter(spot=S,spot_range=(40), op_list=hedged_op_list)"
      ],
      "metadata": {
        "colab": {
          "base_uri": "https://localhost:8080/",
          "height": 416
        },
        "id": "8i1sbXtzltZL",
        "outputId": "102de013-231b-4636-a09e-43d5bcaba239"
      },
      "execution_count": 31,
      "outputs": [
        {
          "output_type": "display_data",
          "data": {
            "image/png": "[encoded data removed]",
            "text/plain": [
              "<Figure size 720x432 with 1 Axes>"
            ]
          },
          "metadata": {
            "needs_background": "light"
          }
        }
      ]
    },
    {
      "cell_type": "code",
      "source": [
        ""
      ],
      "metadata": {
        "id": "ubg6AdW5QnNi"
      },
      "execution_count": null,
      "outputs": []
    },
    {
      "cell_type": "markdown",
      "source": [
        "#Create Better Graphs with Greek Risks over Price and Time"
      ],
      "metadata": {
        "id": "eGGVyXOFRMqs"
      }
    },
    {
      "cell_type": "code",
      "source": [
        "# To Do, see above title"
      ],
      "metadata": {
        "id": "Klrwsa8ORRKK"
      },
      "execution_count": 33,
      "outputs": []
    },
    {
      "cell_type": "code",
      "source": [
        ""
      ],
      "metadata": {
        "id": "fVBdWA7-RUPI"
      },
      "execution_count": null,
      "outputs": []
    }
  ]
}